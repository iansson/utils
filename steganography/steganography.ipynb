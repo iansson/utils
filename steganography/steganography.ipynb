{
 "cells": [
  {
   "cell_type": "markdown",
   "id": "9bb4ddec",
   "metadata": {},
   "source": [
    "# Steganography\n",
    "\n",
    "The goal is to hide a secret message in a jpeg. Steps we need to take:\n",
    "\n",
    "1. Load an image as an array of bytes\n",
    "2. Convert message into bits\n",
    "3. For each bit in message, change the lsb of every pixel until the entire message is encoded\n",
    "\n",
    "*Optional:* \n",
    "- Ensure the image is large enough to contain the message. \n",
    "- Choose how many bits to change per pixel\n",
    "  - Distribute bit change equally on all channels\n",
    "\n",
    "That's it for **encoding** the message, but we also need to **decode** it. To do that, we need to know the size of the message, so we need to make sure the message contains some header. \n",
    "\n",
    "With that out of the way, this is the image we will be working on:\n",
    "\n",
    "<img src=\"nomorefanmail.jpg\" width=\"500\">"
   ]
  },
  {
   "cell_type": "markdown",
   "id": "dc3a74c5",
   "metadata": {},
   "source": [
    "First we need to **encode the message in binary**:"
   ]
  },
  {
   "cell_type": "code",
   "execution_count": 34,
   "id": "11adad9d",
   "metadata": {},
   "outputs": [
    {
     "name": "stdout",
     "output_type": "stream",
     "text": [
      "Original message: War and hate\n",
      "Encoded: 010101110110000101110010001000000110000101101110011001000010000001101000011000010111010001100101\n",
      "Decoded: War and hate\n",
      "4\n"
     ]
    }
   ],
   "source": [
    "def str_to_bin(str : str) -> str:\n",
    "    bitstring = ''.join(format(ord(char), '08b') for char in msg) # https://www.geeksforgeeks.org/python/python-convert-string-to-binary/\n",
    "    return bitstring\n",
    "\n",
    "def bin_to_str(str : str) -> str:\n",
    "    chars = [chr(int(str[i:i+8], 2)) for i in range(0, len(str), 8)]\n",
    "    original_msg = ''.join(chars)\n",
    "    return original_msg\n",
    "\n",
    "msg = \"War and hate\"\n",
    "encoded = str_to_bin(msg)\n",
    "decoded = bin_to_str(encoded)\n",
    "\n",
    "print(f\"Original message: {msg}\")\n",
    "print(f\"Encoded: {encoded}\")\n",
    "print(f\"Decoded: {decoded}\")\n",
    "\n",
    "print(len(\"hell\"))"
   ]
  },
  {
   "cell_type": "markdown",
   "id": "6ff4a716",
   "metadata": {},
   "source": [
    "Then, we'll **load the image**:"
   ]
  },
  {
   "cell_type": "code",
   "execution_count": 35,
   "id": "e126b17b",
   "metadata": {},
   "outputs": [],
   "source": [
    "from PIL import Image\n",
    "import numpy as np\n",
    "\n",
    "img = Image.open(\"nomorefanmail.jpg\") \n",
    "pixels = np.array(img, dtype=np.uint8) # this gives us a 2D array, pixels[0][0] gives us the data of the first pixel\n",
    "# example pixel: [224 238 241]\n"
   ]
  },
  {
   "cell_type": "markdown",
   "id": "ede02f54",
   "metadata": {},
   "source": [
    "We'll define a function that takes a pixel, and hides one bit in one of the channels."
   ]
  },
  {
   "cell_type": "code",
   "execution_count": null,
   "id": "e8110d56",
   "metadata": {},
   "outputs": [],
   "source": [
    "def encode_on_pixel(pixel, msg_bit: bool):\n",
    "    blue_channel = pixel[2]\n",
    "    binary_str = f'{blue_channel:08b}' # Assuming the channel consists of 8 bits\n",
    "    #### STRINGS IN PYTHON ARE IMMUTABLE, THIS WONT WORK\n",
    "    if msg_bit:\n",
    "        binary_str[-1] = \"1\"\n",
    "    else:\n",
    "        binary_str[-1] = \"0\"\n",
    "\n",
    "    \n"
   ]
  },
  {
   "cell_type": "markdown",
   "id": "5a35a691",
   "metadata": {},
   "source": [
    "Now we'll call this function on all pixels, until the message is encoded."
   ]
  },
  {
   "cell_type": "code",
   "execution_count": null,
   "id": "776b7255",
   "metadata": {},
   "outputs": [],
   "source": [
    "def encode_message(pixels, msg):\n",
    "\n",
    "    bit_index = 0\n",
    "\n",
    "    for row in pixels:\n",
    "        for pixel in row:\n",
    "            for i in range(bit_index, len(msg)):\n",
    "                bit = msg[bit_index]\n",
    "                if bit == \"1\":\n",
    "                    bit = True\n",
    "                elif bit == \"0\":\n",
    "                    bit = False\n",
    "                else:\n",
    "                    raise ValueError(f'Unexpected bit value in message: \\nbit = {bit} \\nmsg = {msg}')\n",
    "                \n",
    "                \n",
    "        \n",
    "        "
   ]
  }
 ],
 "metadata": {
  "kernelspec": {
   "display_name": "Python 3",
   "language": "python",
   "name": "python3"
  },
  "language_info": {
   "codemirror_mode": {
    "name": "ipython",
    "version": 3
   },
   "file_extension": ".py",
   "mimetype": "text/x-python",
   "name": "python",
   "nbconvert_exporter": "python",
   "pygments_lexer": "ipython3",
   "version": "3.13.7"
  }
 },
 "nbformat": 4,
 "nbformat_minor": 5
}
