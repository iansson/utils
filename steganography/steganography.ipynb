{
 "cells": [
  {
   "cell_type": "markdown",
   "id": "9bb4ddec",
   "metadata": {},
   "source": [
    "# Steganography\n",
    "\n",
    "The goal is to hide a secret message in a png. Steps we need to take:\n",
    "\n",
    "1. Load an image as an array of bytes\n",
    "2. Convert message into bits\n",
    "3. For each bit in message, change the lsb of every pixel until the entire message is encoded\n",
    "\n",
    "*Optional:* \n",
    "- Ensure the image is large enough to contain the message. \n",
    "- Choose how many bits to change per pixel\n",
    "  - Distribute bit change equally on all channels\n",
    "\n",
    "That's it for **encoding** the message, but we also need to **decode** it. To do that, we need to know the size of the message, so we need to make sure the message contains some header. \n",
    "\n",
    "This is the image we will be working on:\n",
    "\n",
    "<img src=\"nomorefanmail.png\" width=\"500\">"
   ]
  },
  {
   "cell_type": "markdown",
   "id": "dc3a74c5",
   "metadata": {},
   "source": [
    "First we need to **encode the message in binary**:"
   ]
  },
  {
   "cell_type": "code",
   "execution_count": 201,
   "id": "11adad9d",
   "metadata": {},
   "outputs": [],
   "source": [
    "def str_to_bin(str : str) -> str:\n",
    "    # Different approaches to achieve the same thing: \n",
    "    # bits = [format(ord(char), '08b') for char in msg]                 # eg. ['01010111', '01100001', '01110010', '00100000']\n",
    "    # from https://www.geeksforgeeks.org/python/python-convert-string-to-binary/ :\n",
    "    # bits = ''.join(format(ord(char), '08b') for char in msg)          # eg. \"01010111011000010111001000100000011000010110111001\"\n",
    "    bits = [bit for char in str for bit in format(ord(char), '08b')]    # eg. ['0', '1', '0', '1', '0', '1', '1', '1', '0']\n",
    "    return bits\n",
    "\n",
    "def bin_to_str(bits : list) -> str:\n",
    "    # for every 8 elements in bits, join 8 bits to a \"bitstring\" and convert them to a unicode character\n",
    "    chars = [chr(int(''.join(bits[i:i+8]), 2)) for i in range(0, len(bits), 8)]\n",
    "    original_msg = ''.join(chars)\n",
    "    return original_msg"
   ]
  },
  {
   "cell_type": "markdown",
   "id": "6ff4a716",
   "metadata": {},
   "source": [
    "Then, we'll **load the image**:"
   ]
  },
  {
   "cell_type": "code",
   "execution_count": 202,
   "id": "e126b17b",
   "metadata": {},
   "outputs": [],
   "source": [
    "from PIL import Image\n",
    "import numpy as np\n",
    "\n",
    "def load_image(path : str):\n",
    "    img = Image.open(path) \n",
    "    pixels = np.array(img, dtype=np.uint8) # this gives us a 2D array, pixels[0][0] gives us the data of the first pixel\n",
    "    # example pixel: [224 238 241]\n",
    "    return pixels\n",
    "\n",
    "path = \"nomorefanmail.png\"\n",
    "pixels = load_image(path)"
   ]
  },
  {
   "cell_type": "markdown",
   "id": "ede02f54",
   "metadata": {},
   "source": [
    "We'll define a function that takes a pixel, and **hides one bit in one of the channels**."
   ]
  },
  {
   "cell_type": "code",
   "execution_count": 203,
   "id": "e8110d56",
   "metadata": {},
   "outputs": [],
   "source": [
    "def encode_on_pixel(pixel, msg_bit: str):\n",
    "    # side effects: (none)\n",
    "    \n",
    "    if len(msg_bit) != 1:\n",
    "        raise ValueError(f\"Error: Invalid bit length: {len(msg_bit)}\")\n",
    "    \n",
    "    if msg_bit != '1' and msg_bit != '0':\n",
    "        raise ValueError(f\"Error: Invalid message bit: {msg_bit}\")\n",
    "    \n",
    "    red_channel, green_channel, blue_channel = pixel\n",
    "\n",
    "    binary = list(f'{blue_channel:08b}') # Assuming the channel consists of 8 bits (which is standard in most formats)\n",
    "    binary[-1] = msg_bit\n",
    "\n",
    "    new_pixel = red_channel, green_channel, np.uint8(int(''.join(binary), 2))\n",
    "\n",
    "    return new_pixel\n",
    "    "
   ]
  },
  {
   "cell_type": "markdown",
   "id": "5a35a691",
   "metadata": {},
   "source": [
    "Now we'll call this function on all pixels, until the message is encoded."
   ]
  },
  {
   "cell_type": "code",
   "execution_count": 204,
   "id": "776b7255",
   "metadata": {},
   "outputs": [],
   "source": [
    "def encode_message(pixels, msg):\n",
    "    # WARNING FOR SIDE EFFECTS: 'pixels' will be altered direcly\n",
    "    \n",
    "    msg_with_len = str(len(msg)) + \"||\" + msg\n",
    "    encoded_msg = str_to_bin(msg_with_len)\n",
    "\n",
    "    bit_index = 0\n",
    "\n",
    "    for i, row in enumerate(pixels):\n",
    "        for j, pixel in enumerate(row):\n",
    "            bit = encoded_msg[bit_index]\n",
    "            # print(f\"before: {pixel}\")\n",
    "            pixels[i][j] = encode_on_pixel(pixel, bit)\n",
    "            # print(f\"after: {pixel}\")\n",
    "            bit_index += 1\n",
    "            if bit_index >= len(encoded_msg): break\n",
    "        if bit_index >= len(encoded_msg): break\n",
    "\n",
    "    return pixels"
   ]
  },
  {
   "cell_type": "markdown",
   "id": "7d3fa34e",
   "metadata": {},
   "source": [
    "After encoding the message, we just need to **store** it:"
   ]
  },
  {
   "cell_type": "code",
   "execution_count": 205,
   "id": "1b5f54ef",
   "metadata": {},
   "outputs": [],
   "source": [
    "def store_image(pixels, file_name : str):\n",
    "    # side effects: saves image\n",
    "\n",
    "    image = Image.fromarray(pixels, 'RGB')\n",
    "    image.save(file_name)"
   ]
  },
  {
   "cell_type": "markdown",
   "id": "4f1a6d34",
   "metadata": {},
   "source": [
    "But of course, we also need to be able to **decode the message**. Otherwise, all this work was for nothing. "
   ]
  },
  {
   "cell_type": "code",
   "execution_count": 206,
   "id": "15f85c66",
   "metadata": {},
   "outputs": [],
   "source": [
    "import re\n",
    "\n",
    "\n",
    "def decode_pixel(pixel):\n",
    "    red_channel, green_channel, blue_channel = pixel\n",
    "    binary = list(f'{blue_channel:08b}') # Assuming the channel consists of 8 bits (which is standard in most formats)\n",
    "    return binary[-1]\n",
    "\n",
    "def decode_message(pixels):\n",
    "    bits = []\n",
    "\n",
    "    for row in pixels:\n",
    "        for pixel in row:\n",
    "            bits.append(decode_pixel(pixel))\n",
    "\n",
    "    decoded = bin_to_str(bits)\n",
    "\n",
    "    msg_size_str, msg = re.split(r\"\\|\\|\", decoded, maxsplit=1)\n",
    "    msg_size = int(msg_size_str)\n",
    "    \n",
    "    return msg[:msg_size]"
   ]
  },
  {
   "cell_type": "markdown",
   "id": "636f20f7",
   "metadata": {},
   "source": [
    "Now, we can test the code:"
   ]
  },
  {
   "cell_type": "code",
   "execution_count": 207,
   "id": "aad9307f",
   "metadata": {},
   "outputs": [
    {
     "name": "stdout",
     "output_type": "stream",
     "text": [
      "secret message:           War and hate, war and hate!\n",
      "decoded from image:       War and hate, war and hate!\n",
      "decoded from saved image: War and hate, war and hate!\n"
     ]
    }
   ],
   "source": [
    "msg = \"War and hate, war and hate!\"\n",
    "\n",
    "pixels1 = load_image(\"nomorefanmail.png\")\n",
    "encode_message(pixels1, msg)\n",
    "store_image(pixels1, \"secret.png\") ## You can't store in jpg, since it's a lossy format. The message will break!\n",
    "\n",
    "decoded1 = decode_message(pixels1)\n",
    "\n",
    "print(f\"secret message:           {msg}\")\n",
    "print(f\"decoded from image:       {decoded1}\")\n",
    "\n",
    "pixels2 = load_image(\"secret.png\") \n",
    "decoded2 = decode_message(pixels2)\n",
    "print(f\"decoded from saved image: {decoded2}\")"
   ]
  },
  {
   "cell_type": "markdown",
   "id": "19e59ccf",
   "metadata": {},
   "source": [
    "You probably can't even tell the difference between the original and the modifed version:\n",
    "\n",
    "| Original | Modified |\n",
    "|----------|----------|\n",
    "| <img src=\"nomorefanmail.png\" width=\"70%\">| <img src=\"secret.png\" width=\"70%\">|"
   ]
  }
 ],
 "metadata": {
  "kernelspec": {
   "display_name": "Python 3",
   "language": "python",
   "name": "python3"
  },
  "language_info": {
   "codemirror_mode": {
    "name": "ipython",
    "version": 3
   },
   "file_extension": ".py",
   "mimetype": "text/x-python",
   "name": "python",
   "nbconvert_exporter": "python",
   "pygments_lexer": "ipython3",
   "version": "3.13.5"
  }
 },
 "nbformat": 4,
 "nbformat_minor": 5
}
