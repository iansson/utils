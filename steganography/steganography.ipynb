{
 "cells": [
  {
   "cell_type": "markdown",
   "id": "9bb4ddec",
   "metadata": {},
   "source": [
    "# Steganography\n",
    "\n",
    "The goal is to hide a secret message in a jpeg. Steps we need to take:\n",
    "\n",
    "1. Load an image as an array of bytes\n",
    "2. Convert message into bits\n",
    "3. For each bit in message, change the lsb of every pixel until the entire message is encoded\n",
    "\n",
    "*Optional:* \n",
    "- Ensure the image is large enough to contain the message. \n",
    "- Choose how many bits to change per pixel\n",
    "  - Distribute bit change equally on all channels\n",
    "\n",
    "That's it for **encoding** the message, but we also need to **decode** it. To do that, we need to know the size of the message, so we need to make sure the message contains some header. \n",
    "\n",
    "With that out of the way, this is the image we will be working on:\n",
    "\n",
    "<img src=\"nomorefanmail.jpg\" width=\"500\">"
   ]
  },
  {
   "cell_type": "markdown",
   "id": "dc3a74c5",
   "metadata": {},
   "source": [
    "First we need to **encode the message in binary**:"
   ]
  },
  {
   "cell_type": "code",
   "execution_count": 183,
   "id": "11adad9d",
   "metadata": {},
   "outputs": [],
   "source": [
    "def str_to_bin(str : str) -> str:\n",
    "    # Different approaches to achieve the same thing: \n",
    "    # bits = [format(ord(char), '08b') for char in msg]                 # eg. ['01010111', '01100001', '01110010', '00100000']\n",
    "    # from https://www.geeksforgeeks.org/python/python-convert-string-to-binary/ :\n",
    "    # bits = ''.join(format(ord(char), '08b') for char in msg)          # eg. \"01010111011000010111001000100000011000010110111001\"\n",
    "    bits = [bit for char in str for bit in format(ord(char), '08b')]    # eg. ['0', '1', '0', '1', '0', '1', '1', '1', '0']\n",
    "    return bits\n",
    "\n",
    "def bin_to_str(bits : list) -> str:\n",
    "    # for every 8 elements in bits, join 8 bits to a \"bitstring\" and convert them to a unicode character\n",
    "    chars = [chr(int(''.join(bits[i:i+8]), 2)) for i in range(0, len(bits), 8)]\n",
    "    original_msg = ''.join(chars)\n",
    "    return original_msg"
   ]
  },
  {
   "cell_type": "markdown",
   "id": "6ff4a716",
   "metadata": {},
   "source": [
    "Then, we'll **load the image**:"
   ]
  },
  {
   "cell_type": "code",
   "execution_count": 184,
   "id": "e126b17b",
   "metadata": {},
   "outputs": [],
   "source": [
    "from PIL import Image\n",
    "import numpy as np\n",
    "\n",
    "def load_image(path : str):\n",
    "    img = Image.open(path) \n",
    "    pixels = np.array(img, dtype=np.uint8) # this gives us a 2D array, pixels[0][0] gives us the data of the first pixel\n",
    "    # example pixel: [224 238 241]\n",
    "    return pixels\n",
    "\n",
    "path = \"nomorefanmail.jpg\"\n",
    "pixels = load_image(path)"
   ]
  },
  {
   "cell_type": "markdown",
   "id": "ede02f54",
   "metadata": {},
   "source": [
    "We'll define a function that takes a pixel, and **hides one bit in one of the channels**."
   ]
  },
  {
   "cell_type": "code",
   "execution_count": 185,
   "id": "e8110d56",
   "metadata": {},
   "outputs": [],
   "source": [
    "def encode_on_pixel(pixel, msg_bit: str):\n",
    "    # side effects: (none)\n",
    "    \n",
    "    if len(msg_bit) != 1:\n",
    "        raise ValueError(f\"Error: Invalid bit length: {len(msg_bit)}\")\n",
    "    \n",
    "    if msg_bit != '1' and msg_bit != '0':\n",
    "        raise ValueError(f\"Error: Invalid message bit: {msg_bit}\")\n",
    "    \n",
    "    red_channel, blue_channel, green_channel = pixel\n",
    "\n",
    "    binary = list(f'{blue_channel:08b}') # Assuming the channel consists of 8 bits (which is standard in most formats)\n",
    "    binary[-1] = msg_bit\n",
    "\n",
    "    new_pixel = red_channel, np.uint8(int(''.join(binary), 2)), green_channel \n",
    "\n",
    "    return new_pixel\n",
    "    "
   ]
  },
  {
   "cell_type": "markdown",
   "id": "5a35a691",
   "metadata": {},
   "source": [
    "Now we'll call this function on all pixels, until the message is encoded."
   ]
  },
  {
   "cell_type": "code",
   "execution_count": 186,
   "id": "776b7255",
   "metadata": {},
   "outputs": [],
   "source": [
    "def encode_message(pixels, msg):\n",
    "    # side effects: 'pixels' will be altered direcly\n",
    "\n",
    "    bit_index = 0\n",
    "\n",
    "    for row in pixels:\n",
    "        for pixel in row:\n",
    "            bit = msg[bit_index]\n",
    "            # print(f\"before: {pixel}\")\n",
    "            pixel = encode_on_pixel(pixel, bit)\n",
    "            # print(f\"after: {pixel}\")\n",
    "            bit_index += 1\n",
    "            if bit_index >= len(msg): break\n",
    "        if bit_index >= len(msg): break\n",
    "\n",
    "    return pixels"
   ]
  },
  {
   "cell_type": "markdown",
   "id": "7d3fa34e",
   "metadata": {},
   "source": [
    "After encoding the message, we just need to **store** it:"
   ]
  },
  {
   "cell_type": "code",
   "execution_count": 187,
   "id": "1b5f54ef",
   "metadata": {},
   "outputs": [],
   "source": [
    "def store_image(pixels, file_name : str):\n",
    "    # side effects: saves image\n",
    "\n",
    "    image = Image.fromarray(pixels, 'RGB')\n",
    "    image.save(file_name)"
   ]
  },
  {
   "cell_type": "markdown",
   "id": "4f1a6d34",
   "metadata": {},
   "source": [
    "But of course, we also need to be able to **decode the message**. Otherwise, all this work was for nothing. "
   ]
  },
  {
   "cell_type": "code",
   "execution_count": null,
   "id": "15f85c66",
   "metadata": {},
   "outputs": [
    {
     "name": "stdout",
     "output_type": "stream",
     "text": [
      "secret message:  War and hate, war and hate!\n",
      "decoded in text: *\u0018\u0000gÃà4îçø\u001f0îyI-\u0012$³å\u0018ËÌKà%Ã\u0012¤ \n",
      "decoded src image: *\u0018\u0000gÃà4îçø\u001f0îyI-\u0012$³å\u0018ËÌKà%Ã\u0012¤\n",
      "encoded in binary:  010101110110000101110010001000000110000101101110011001000010000001101000011000010111010001100101001011000010000001110111011000010111001000100000011000010110111001100100001000000110100001100001011101000110010100100001\n",
      "decoded from image: 001010100001100000000000011001111100001111100000100110010011010011101110111001111111100000011111001100001110111001111001010010010010110100010010001001001011001111100101000110001100101111001100010010111110000000100101110000110001001010100100 \n",
      "decoded src image: 001010100001100000000000011001111100001111100000100110010011010011101110111001111111100000011111001100001110111001111001010010010010110100010010001001001011001111100101000110001100101111001100010010111110000000100101110000110001001010100100\n"
     ]
    }
   ],
   "source": [
    "def decode_pixel(pixel):\n",
    "    red_channel, blue_channel, green_channel = pixel\n",
    "    binary = list(f'{blue_channel:08b}') # Assuming the channel consists of 8 bits (which is standard in most formats)\n",
    "    return binary[-1]\n",
    "\n",
    "\n",
    "def decode_message(pixels):\n",
    "    msg = []\n",
    "    msg_length = 30*8 # implement a way to communicate this instead\n",
    "\n",
    "    for row in pixels:\n",
    "        for pixel in row:\n",
    "            msg.append(decode_pixel(pixel))\n",
    "            if len(msg) >= msg_length: break\n",
    "        if len(msg) >= msg_length: break\n",
    "    \n",
    "    return msg\n",
    "\n",
    "msg = \"War and hate, war and hate!\"\n",
    "\n",
    "encoded = str_to_bin(msg)\n",
    "pixels = load_image(\"nomorefanmail.jpg\")\n",
    "new_pixels = encode_message(pixels, encoded)\n",
    "store_image(new_pixels, \"secret.jpg\")\n",
    "\n",
    "bin_decoded = decode_message(new_pixels)\n",
    "decoded = bin_to_str(bin_decoded)\n",
    "\n",
    "src_bin_decoded = decode_message(pixels)\n",
    "src_decoded = bin_to_str(src_bin_decoded)\n",
    "\n",
    "print(f\"secret message:  {msg}\\ndecoded in text: {decoded} \\ndecoded src image: {src_decoded}\")\n",
    "print(f\"encoded in binary:  {''.join(encoded)}\\ndecoded from image: {''.join(bin_decoded)} \\ndecoded src image:  {''.join(src_bin_decoded)}\")"
   ]
  },
  {
   "cell_type": "markdown",
   "id": "636f20f7",
   "metadata": {},
   "source": [
    "Finally, we end up with the following:"
   ]
  }
 ],
 "metadata": {
  "kernelspec": {
   "display_name": "Python 3",
   "language": "python",
   "name": "python3"
  },
  "language_info": {
   "codemirror_mode": {
    "name": "ipython",
    "version": 3
   },
   "file_extension": ".py",
   "mimetype": "text/x-python",
   "name": "python",
   "nbconvert_exporter": "python",
   "pygments_lexer": "ipython3",
   "version": "3.13.7"
  }
 },
 "nbformat": 4,
 "nbformat_minor": 5
}
